{
 "cells": [
  {
   "cell_type": "markdown",
   "id": "2754663c",
   "metadata": {
    "id": "2754663c"
   },
   "source": [
    "# Import libraries"
   ]
  },
  {
   "cell_type": "code",
   "execution_count": 1,
   "id": "02b086ca",
   "metadata": {
    "id": "02b086ca",
    "outputId": "c6f57bb0-59d4-48ee-b15d-2b18c9a4239c",
    "tags": []
   },
   "outputs": [
    {
     "name": "stdout",
     "output_type": "stream",
     "text": [
      "Collecting sklearn\n",
      "  Downloading sklearn-0.0.tar.gz (1.1 kB)\n",
      "  Preparing metadata (setup.py) ... \u001b[?25ldone\n",
      "\u001b[?25hCollecting scikit-learn\n",
      "  Downloading scikit_learn-1.0.1-cp37-cp37m-manylinux_2_12_x86_64.manylinux2010_x86_64.whl (23.2 MB)\n",
      "     |████████████████████████████████| 23.2 MB 4.9 MB/s            \n",
      "\u001b[?25hRequirement already satisfied: numpy>=1.14.6 in /srv/conda/envs/notebook/lib/python3.7/site-packages (from scikit-learn->sklearn) (1.21.4)\n",
      "Collecting threadpoolctl>=2.0.0\n",
      "  Downloading threadpoolctl-3.0.0-py3-none-any.whl (14 kB)\n",
      "Collecting joblib>=0.11\n",
      "  Downloading joblib-1.1.0-py2.py3-none-any.whl (306 kB)\n",
      "     |████████████████████████████████| 306 kB 23.7 MB/s            \n",
      "\u001b[?25hRequirement already satisfied: scipy>=1.1.0 in /srv/conda/envs/notebook/lib/python3.7/site-packages (from scikit-learn->sklearn) (1.7.2)\n",
      "Building wheels for collected packages: sklearn\n",
      "  Building wheel for sklearn (setup.py) ... \u001b[?25ldone\n",
      "\u001b[?25h  Created wheel for sklearn: filename=sklearn-0.0-py2.py3-none-any.whl size=1309 sha256=cb07fb49e8a26509f9b14de11ece4b2c6099adae758d7082f9db477f2d8d828b\n",
      "  Stored in directory: /home/jovyan/.cache/pip/wheels/46/ef/c3/157e41f5ee1372d1be90b09f74f82b10e391eaacca8f22d33e\n",
      "Successfully built sklearn\n",
      "Installing collected packages: threadpoolctl, joblib, scikit-learn, sklearn\n",
      "Successfully installed joblib-1.1.0 scikit-learn-1.0.1 sklearn-0.0 threadpoolctl-3.0.0\n",
      "Note: you may need to restart the kernel to use updated packages.\n"
     ]
    }
   ],
   "source": [
    "pip install sklearn"
   ]
  },
  {
   "cell_type": "code",
   "execution_count": 2,
   "id": "10898131",
   "metadata": {
    "id": "10898131",
    "outputId": "db321b0e-5132-4870-cebe-6635a3b8f023",
    "tags": []
   },
   "outputs": [
    {
     "name": "stdout",
     "output_type": "stream",
     "text": [
      "Collecting pandas\n",
      "  Downloading pandas-1.3.4-cp37-cp37m-manylinux_2_17_x86_64.manylinux2014_x86_64.whl (11.3 MB)\n",
      "     |████████████████████████████████| 11.3 MB 4.7 MB/s            \n",
      "\u001b[?25hRequirement already satisfied: pytz>=2017.3 in /srv/conda/envs/notebook/lib/python3.7/site-packages (from pandas) (2021.3)\n",
      "Requirement already satisfied: python-dateutil>=2.7.3 in /srv/conda/envs/notebook/lib/python3.7/site-packages (from pandas) (2.8.2)\n",
      "Requirement already satisfied: numpy>=1.17.3 in /srv/conda/envs/notebook/lib/python3.7/site-packages (from pandas) (1.21.4)\n",
      "Requirement already satisfied: six>=1.5 in /srv/conda/envs/notebook/lib/python3.7/site-packages (from python-dateutil>=2.7.3->pandas) (1.16.0)\n",
      "Installing collected packages: pandas\n",
      "Successfully installed pandas-1.3.4\n",
      "Note: you may need to restart the kernel to use updated packages.\n"
     ]
    }
   ],
   "source": [
    "pip install pandas\n"
   ]
  },
  {
   "cell_type": "code",
   "execution_count": 3,
   "id": "9285d3ba",
   "metadata": {
    "id": "9285d3ba",
    "outputId": "3b1acda1-067c-458d-88fb-3b255ea0cf44",
    "tags": []
   },
   "outputs": [
    {
     "name": "stdout",
     "output_type": "stream",
     "text": [
      "Collecting seaborn\n",
      "  Downloading seaborn-0.11.2-py3-none-any.whl (292 kB)\n",
      "     |████████████████████████████████| 292 kB 4.7 MB/s            \n",
      "\u001b[?25hRequirement already satisfied: numpy>=1.15 in /srv/conda/envs/notebook/lib/python3.7/site-packages (from seaborn) (1.21.4)\n",
      "Requirement already satisfied: scipy>=1.0 in /srv/conda/envs/notebook/lib/python3.7/site-packages (from seaborn) (1.7.2)\n",
      "Requirement already satisfied: matplotlib>=2.2 in /srv/conda/envs/notebook/lib/python3.7/site-packages (from seaborn) (3.5.0)\n",
      "Requirement already satisfied: pandas>=0.23 in /srv/conda/envs/notebook/lib/python3.7/site-packages (from seaborn) (1.3.4)\n",
      "Requirement already satisfied: fonttools>=4.22.0 in /srv/conda/envs/notebook/lib/python3.7/site-packages (from matplotlib>=2.2->seaborn) (4.28.2)\n",
      "Requirement already satisfied: cycler>=0.10 in /srv/conda/envs/notebook/lib/python3.7/site-packages (from matplotlib>=2.2->seaborn) (0.11.0)\n",
      "Requirement already satisfied: packaging>=20.0 in /srv/conda/envs/notebook/lib/python3.7/site-packages (from matplotlib>=2.2->seaborn) (21.3)\n",
      "Requirement already satisfied: python-dateutil>=2.7 in /srv/conda/envs/notebook/lib/python3.7/site-packages (from matplotlib>=2.2->seaborn) (2.8.2)\n",
      "Requirement already satisfied: pyparsing>=2.2.1 in /srv/conda/envs/notebook/lib/python3.7/site-packages (from matplotlib>=2.2->seaborn) (3.0.6)\n",
      "Requirement already satisfied: kiwisolver>=1.0.1 in /srv/conda/envs/notebook/lib/python3.7/site-packages (from matplotlib>=2.2->seaborn) (1.3.2)\n",
      "Requirement already satisfied: pillow>=6.2.0 in /srv/conda/envs/notebook/lib/python3.7/site-packages (from matplotlib>=2.2->seaborn) (8.4.0)\n",
      "Requirement already satisfied: pytz>=2017.3 in /srv/conda/envs/notebook/lib/python3.7/site-packages (from pandas>=0.23->seaborn) (2021.3)\n",
      "Requirement already satisfied: six>=1.5 in /srv/conda/envs/notebook/lib/python3.7/site-packages (from python-dateutil>=2.7->matplotlib>=2.2->seaborn) (1.16.0)\n",
      "Installing collected packages: seaborn\n",
      "Successfully installed seaborn-0.11.2\n",
      "Note: you may need to restart the kernel to use updated packages.\n"
     ]
    }
   ],
   "source": [
    "pip install seaborn"
   ]
  },
  {
   "cell_type": "code",
   "execution_count": 20,
   "id": "c18cde14-c81e-4efd-9f36-b7017f50146f",
   "metadata": {},
   "outputs": [
    {
     "name": "stdout",
     "output_type": "stream",
     "text": [
      "Collecting sklearn-genetic\n",
      "  Downloading sklearn_genetic-0.4.1-py2.py3-none-any.whl (10 kB)\n",
      "Collecting deap>=1.0.2\n",
      "  Downloading deap-1.3.1-cp37-cp37m-manylinux_2_5_x86_64.manylinux1_x86_64.manylinux_2_12_x86_64.manylinux2010_x86_64.whl (160 kB)\n",
      "     |████████████████████████████████| 160 kB 5.3 MB/s            \n",
      "\u001b[?25hRequirement already satisfied: scikit-learn>=0.20.3 in /srv/conda/envs/notebook/lib/python3.7/site-packages (from sklearn-genetic) (1.0.1)\n",
      "Requirement already satisfied: numpy in /srv/conda/envs/notebook/lib/python3.7/site-packages (from deap>=1.0.2->sklearn-genetic) (1.21.4)\n",
      "Requirement already satisfied: joblib>=0.11 in /srv/conda/envs/notebook/lib/python3.7/site-packages (from scikit-learn>=0.20.3->sklearn-genetic) (1.1.0)\n",
      "Requirement already satisfied: scipy>=1.1.0 in /srv/conda/envs/notebook/lib/python3.7/site-packages (from scikit-learn>=0.20.3->sklearn-genetic) (1.7.2)\n",
      "Requirement already satisfied: threadpoolctl>=2.0.0 in /srv/conda/envs/notebook/lib/python3.7/site-packages (from scikit-learn>=0.20.3->sklearn-genetic) (3.0.0)\n",
      "Installing collected packages: deap, sklearn-genetic\n",
      "Successfully installed deap-1.3.1 sklearn-genetic-0.4.1\n",
      "Note: you may need to restart the kernel to use updated packages.\n"
     ]
    }
   ],
   "source": [
    "pip install sklearn-genetic"
   ]
  },
  {
   "cell_type": "code",
   "execution_count": 21,
   "id": "eca15091",
   "metadata": {
    "id": "eca15091"
   },
   "outputs": [],
   "source": [
    "#Import\n",
    "import pandas as pd\n",
    "import matplotlib.pyplot as plt\n",
    "from sklearn import tree\n",
    "from sklearn import ensemble\n",
    "from sklearn import svm\n",
    "from sklearn.metrics import mean_squared_error\n",
    "import numpy as np\n",
    "import seaborn as sns\n",
    "from sklearn.preprocessing import StandardScaler\n",
    "from sklearn.model_selection import train_test_split\n",
    "from sklearn.linear_model import LinearRegression\n",
    "from sklearn.neighbors import KNeighborsRegressor\n",
    "from sklearn import linear_model\n",
    "from genetic_selection import GeneticSelectionCV\n",
    "from sklearn.metrics import r2_score"
   ]
  },
  {
   "cell_type": "markdown",
   "id": "5d9b7eae",
   "metadata": {
    "id": "5d9b7eae"
   },
   "source": [
    "# Choose your data, model, split size and hyperparameters:\n",
    "\n",
    "## Data \n",
    "You should pass to `file_name` full name of the file with data. Data must be in the same folder. First column should contain the index, the middle columns should contain variables and the last column - the output. \n",
    "\n",
    "## Model type\n",
    "You should pass to `model_type` the type of model chosen from: \n",
    "1. 'MLR' - for Multi Linear Regression\n",
    "2. 'KNN' - for K-Nearest Neighbors Regression\n",
    "3. 'RF' - for Random Forest Regression\n",
    "4. 'SVR' - for Support Vector Regression \n",
    "5. 'DTR' - for Decision Tree Regression\n",
    "\n",
    "## Split size\n",
    "You should pass to `split_size` number between 0.0 and 1.0 that represents the proportion of the dataset to include in the test dataset. If int, represents the absolute number of test samples. Example: split_size = 0.33 means 77% of data is in train set and 33% in test set. \n",
    "\n",
    "\n",
    "## Hyperparameters\n",
    "You can adjust hyperparameters for the model you have chosen:\n",
    "\n",
    "#### DTR - hyperparameters:\n",
    "- **criterion**: {“squared_error”, “friedman_mse”, “absolute_error”, “poisson”} - The function to measure the quality of a split. Supported criteria are “squared_error” for the mean squared error, which is equal to variance reduction as feature selection criterion and minimizes the L2 loss using the mean of each terminal node, “friedman_mse”, which uses mean squared error with Friedman’s improvement score for potential splits, “absolute_error” for the mean absolute error, which minimizes the L1 loss using the median of each terminal node, and “poisson” which uses reduction in Poisson deviance to find splits.\n",
    "- **splitter**: {“best”, “random”} - the strategy used to choose the split at each node. Supported strategies are “best” to choose the best split and “random” to choose the best random split.\n",
    "\n",
    "\n",
    "\n",
    "#### SVR - hyperparameters:\n",
    "- **kernel**: {‘linear’, ‘poly’, ‘rbf’, ‘sigmoid’, ‘precomputed’} - Specifies the kernel type to be used in the algorithm.\n",
    "- **C**: float - Regularization parameter. The strength of the regularization is inversely proportional to C. Must be strictly positive. The penalty is a squared l2 penalty.\n",
    "- **epsilon**: float - Epsilon in the epsilon-SVR model. It specifies the epsilon-tube within which no penalty is associated in the training loss function with points predicted within a distance epsilon from the actual value.\n",
    "\n",
    "#### RF - hyperparameters:\n",
    "- **n_estimators** : int - The number of trees in the forest.\n",
    "- **max_depth** : int - The maximum depth of the tree. \n",
    "- **min_samples_split** : int - The minimum number of samples required to split an internal node.\n",
    "- **min_samples_leaf** : int - The minimum number of samples required to be at a leaf node. \n",
    "- **max_features** : {“auto”, “sqrt”, “log2”} - The number of features to consider when looking for the best split. If “auto”, then max_features=n_features. If “sqrt”, then max_features=sqrt(n_features). If “log2”, then max_features=log2(n_features).\n",
    "\n",
    "#### KNN - hyperparameters:\n",
    "- **n_neighbors** : Number of neighbors to use by default for kneighbors queries.\n",
    "- **metric** : The distance metric to use for the tree. It is a measure of the true straight line distance between two points in Euclidean space.\n",
    "\n",
    "#### GA - hyperparameters:\n",
    "- **n** : int - number of columns that's should stay after GA."
   ]
  },
  {
   "cell_type": "code",
   "execution_count": 81,
   "id": "35c7a2e4",
   "metadata": {
    "id": "35c7a2e4"
   },
   "outputs": [],
   "source": [
    "### Cell for user input ### \n",
    "\n",
    "file_name = 'dane.csv'\n",
    "model_type = 'SVR' \n",
    "split_size = 0.33 \n",
    "\n",
    "#hyperparameters\n",
    "criterion,splitter = 'squared_error','best' #used when model_type is 'DTR'\n",
    "\n",
    "kernel, C, epsilon = 'linear', 1, 10  #used when model_type is 'SVR'\n",
    "\n",
    "n_estimators, max_depth, min_samples_split, min_samples_leaf, max_features = 200, 20, 2, 2, 'sqrt' #used when model_type is 'RF'\n",
    "\n",
    "n_neighbors,metric = 5,'Euclidean' # used when model_type is 'KNN'\n",
    "\n",
    "n=2 # Used when database has more then 10 features"
   ]
  },
  {
   "cell_type": "code",
   "execution_count": 82,
   "id": "337514ce",
   "metadata": {
    "id": "337514ce"
   },
   "outputs": [],
   "source": [
    "\n",
    "df = pd.read_csv(file_name)\n",
    "\n",
    "predictions = pd.DataFrame() \n",
    "\n",
    "X, y = df.drop(columns=['y']).to_numpy(), df['y'].to_numpy()\n",
    "\n",
    "scaler = StandardScaler()\n",
    "\n",
    "X = scaler.fit_transform(X)\n",
    "\n",
    "X_train, X_test, y_train, y_test = train_test_split(X, y,test_size = split_size, random_state=1)\n",
    "\n",
    "if(len(X_train[0])>9):\n",
    "    model_type = 'GA'\n",
    "def GA_model(X_train,y_train,X_test,n):\n",
    "    estimator = linear_model.LinearRegression()\n",
    "\n",
    "    selector = GeneticSelectionCV(estimator,cv=5,\n",
    "                                      verbose=1,\n",
    "                                      scoring=\"r2\",\n",
    "                                      max_features=n,\n",
    "                                      n_population=50,\n",
    "                                      crossover_proba=0.5,\n",
    "                                      mutation_proba=0.2,\n",
    "                                      n_generations=40,\n",
    "                                      crossover_independent_proba=0.5,\n",
    "                                      mutation_independent_proba=0.05,\n",
    "                                      tournament_size=3,\n",
    "                                      n_gen_no_change=10,\n",
    "                                      caching=True,\n",
    "                                      n_jobs=-1)\n",
    "\n",
    "    \n",
    "    selector = selector.fit(X_train, y_train)\n",
    "    return(selector)\n",
    "\n",
    "#Model MLR\n",
    "def MLR_model(X_train,X_test,y_train):\n",
    "    MLR = LinearRegression()\n",
    "    MLR = MLR.fit(X_train, y_train)\n",
    "    y_pred = MLR.predict(X_test)\n",
    "    y_pred_train = MLR.predict(X_train)\n",
    "    predictions['MLR'] = y_pred\n",
    "\n",
    "    return(MLR)\n",
    "\n",
    "#Model KNN\n",
    "def KNN_model(X_train,X_test,y_train, n_neighbors, metric):\n",
    "    KNN = KNeighborsClassifier()\n",
    "    KNN = KNN.fit(X_train, y_train)\n",
    "    y_pred = KNN.predict(X_test)\n",
    "    y_pred_train = KNN.predict(X_train)\n",
    "\n",
    "    reurn(KNN)\n",
    "\n",
    "# Model RF\n",
    "def RF_model(X_train, X_test, y_train, n_estimators, max_depth, min_samples_split, min_samples_leaf, max_features):\n",
    "    RF = ensemble.RandomForestRegressor()\n",
    "    RF = RF.fit(X_train, y_train)\n",
    "    y_pred = RF.predict(X_test)\n",
    "    y_pred_train = RF.predict(X_train)\n",
    "    predictions['RF'] = y_pred\n",
    "    #predictions['SVR'] = y_pred\n",
    "    \n",
    "    return RF\n",
    "\n",
    "\n",
    "# Model SVR\n",
    "def SVR_model(X_train, X_test, y_train, kernel, C, epsilon):\n",
    "    SVR = svm.SVR(kernel=kernel, C=C, epsilon=epsilon)\n",
    "    SVR = SVR.fit(X_train, y_train)\n",
    "    y_pred = SVR.predict(X_test)\n",
    "    y_pred_train = SVR.predict(X_train)\n",
    "    \n",
    "    return SVR\n",
    "\n",
    "    \n",
    "# Model DTR\n",
    "def DTR_model(X_train,X_test,y_train,criterion1, splitter1):\n",
    "    DTR = tree.DecisionTreeRegressor(criterion=criterion1,splitter= splitter1)\n",
    "    DTR = DTR.fit(X_train, y_train)\n",
    "    y_pred = DTR.predict(X_test)\n",
    "    y_pred_train = DTR.predict(X_train)\n",
    "\n",
    "    return(DTR)"
   ]
  },
  {
   "cell_type": "code",
   "execution_count": 83,
   "id": "e146aebb",
   "metadata": {
    "id": "e146aebb",
    "outputId": "4e6dbeb5-e885-4e1e-e1bd-b007b21176ee",
    "tags": []
   },
   "outputs": [],
   "source": [
    "def leverage(X_test):\n",
    "    X = []\n",
    "\n",
    "    for i in range(len(X_test)):\n",
    "        Y = [1]+[X_test[i][j] for j in range(len(X_test[i]))]\n",
    "        X.append(Y)\n",
    "    X = np.array(X)\n",
    "    X = np.asmatrix(X)  \n",
    "    XT = X.transpose()\n",
    "    XX1 = np.linalg.inv(np.dot(XT,X))\n",
    "    H = np.dot(np.dot(X,XX1),XT)\n",
    "    hi = [np.asarray(H)[i][i] for i in range(len(np.asarray(H)))]\n",
    "    return(hi)\n",
    "\n",
    "def std_res(y_pred,y_test,hi):\n",
    "    std_res = []\n",
    "    for i in range(len(y_pred)):\n",
    "        std_res.append(y_test[i]/(y_pred[i]*np.sqrt(1-hi[i])))\n",
    "    return(std_res)\n",
    "\n",
    "if(model_type == 'DTR'):\n",
    "    model = DTR_model(X_train,X_test,y_train,criterion,splitter)\n",
    "elif(model_type == 'SVR'):\n",
    "    model = SVR_model(X_train, X_test, y_train, kernel, C, epsilon)\n",
    "elif(model_type == 'RF'):\n",
    "    model = RF_model(X_train, X_test, y_train, n_estimators, max_depth, min_samples_split, min_samples_leaf, max_features)\n",
    "elif(model_type == 'GA'):\n",
    "    model = GA_model(X_train,y_train,X_test,n);"
   ]
  },
  {
   "cell_type": "code",
   "execution_count": 84,
   "id": "7cce8091-026e-4003-8ec4-1b0cbc695747",
   "metadata": {},
   "outputs": [
    {
     "name": "stdout",
     "output_type": "stream",
     "text": [
      "RMSE =  19.352488482902594  R^2 =  0.8993180845687501\n"
     ]
    }
   ],
   "source": [
    "y_pred = model.predict(X_test)\n",
    "y_pred_train = model.predict(X_train)\n",
    "hi= leverage(X_test)\n",
    "std_res1 = std_res(y_pred,y_test,hi)\n",
    "hi_train = leverage(X_train)\n",
    "std_res2 = std_res(y_pred_train,y_train,hi_train)\n",
    "print('RMSE = ',mean_squared_error(y_test, y_pred,squared=False),' R^2 = ', r2_score(y_test,y_pred))"
   ]
  },
  {
   "cell_type": "code",
   "execution_count": 85,
   "id": "f408a2d2",
   "metadata": {
    "id": "f408a2d2",
    "outputId": "ea024fcb-a950-4bab-ecf5-dc02f7f065cb"
   },
   "outputs": [
    {
     "data": {
      "text/plain": [
       "Text(0, 0.5, 'Standardized Residuals')"
      ]
     },
     "execution_count": 85,
     "metadata": {},
     "output_type": "execute_result"
    },
    {
     "data": {
      "image/png": "[encoded data removed]",
      "text/plain": [
       "<Figure size 432x288 with 1 Axes>"
      ]
     },
     "metadata": {
      "needs_background": "light"
     },
     "output_type": "display_data"
    }
   ],
   "source": [
    "plot_lm_4 = plt.figure()\n",
    "plt.scatter(hi, std_res1, alpha=0.5)\n",
    "plt.scatter(hi_train, std_res2, alpha=0.5)\n",
    "plot_lm_4.axes[0].set_xlim(0, max(hi)+0.01)\n",
    "plot_lm_4.axes[0].set_ylim(-3, 5)\n",
    "plot_lm_4.axes[0].set_title('Residuals vs Leverage')\n",
    "plot_lm_4.axes[0].set_xlabel('Leverage')\n",
    "plot_lm_4.axes[0].set_ylabel('Standardized Residuals')\n"
   ]
  },
  {
   "cell_type": "code",
   "execution_count": 88,
   "id": "55eaddec",
   "metadata": {
    "id": "55eaddec",
    "outputId": "e05a517e-650c-4f47-b109-92f62881a8c2"
   },
   "outputs": [
    {
     "data": {
      "image/png": "[encoded data removed]",
      "text/plain": [
       "<Figure size 432x288 with 1 Axes>"
      ]
     },
     "metadata": {
      "needs_background": "light"
     },
     "output_type": "display_data"
    }
   ],
   "source": [
    "x = [i for i in range(len(y_pred))]\n",
    "plt.scatter(x,y_pred, color = 'red')\n",
    "plt.scatter(x,y_test, color = 'green')\n",
    "plt.xlabel(\"i'th value of predicted or true data\")\n",
    "plt.ylabel(\"Value of explained variables\")\n",
    "plt.show()"
   ]
  },
  {
   "cell_type": "code",
   "execution_count": null,
   "id": "74f09ce5-cbfe-4eaa-90f8-5fc5e0f4f95a",
   "metadata": {},
   "outputs": [],
   "source": []
  }
 ],
 "metadata": {
  "colab": {
   "name": "Main.ipynb",
   "provenance": []
  },
  "kernelspec": {
   "display_name": "Python 3 (ipykernel)",
   "language": "python",
   "name": "python3"
  },
  "language_info": {
   "codemirror_mode": {
    "name": "ipython",
    "version": 3
   },
   "file_extension": ".py",
   "mimetype": "text/x-python",
   "name": "python",
   "nbconvert_exporter": "python",
   "pygments_lexer": "ipython3",
   "version": "3.7.12"
  }
 },
 "nbformat": 4,
 "nbformat_minor": 5
}
